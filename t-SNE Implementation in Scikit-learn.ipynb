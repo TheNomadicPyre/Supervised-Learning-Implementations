{
 "cells": [
  {
   "cell_type": "markdown",
   "metadata": {},
   "source": [
    "This is an implemntation of t-distributed Stochastic Neighbor Embedding, colloquially known as t-SNE. It's primary purpose is to deal with high dimensional data. T-SNE models data as points and attempts to minimize the Kullback-Leibler divergence. "
   ]
  },
  {
   "cell_type": "markdown",
   "metadata": {},
   "source": [
    "You generally want to use some other form of dimensionality reduction prior to using t-SNE. PCA and "
   ]
  },
  {
   "cell_type": "code",
   "execution_count": null,
   "metadata": {},
   "outputs": [],
   "source": [
    "import numpy as np\n",
    "from sklearn.manifold import TSNE"
   ]
  },
  {
   "cell_type": "code",
   "execution_count": 22,
   "metadata": {},
   "outputs": [
    {
     "data": {
      "text/plain": [
       "\"class TSNE(n_components=2,\\n           perplexity=30.0,\\n           early_exaggeration=12.0,\\n           learning_rate=200.0,\\n           n_iter=1000,\\n           n_iter_without_progress=300,\\n           min_grad_norm=1e-07,\\n           metric='euclidean',\\n           init='random',\\n           verbose=0,\\n           random_state=42,\\n           method='barnes_hut',\\n           angle=0.5)\""
      ]
     },
     "execution_count": 22,
     "metadata": {},
     "output_type": "execute_result"
    }
   ],
   "source": [
    "'''class TSNE(n_components=2,\n",
    "           perplexity=30.0,\n",
    "           early_exaggeration=12.0,\n",
    "           learning_rate=200.0,\n",
    "           n_iter=1000,\n",
    "           n_iter_without_progress=300,\n",
    "           min_grad_norm=1e-07,\n",
    "           metric='euclidean',\n",
    "           init='random',\n",
    "           verbose=0,\n",
    "           random_state=42,\n",
    "           method='barnes_hut',\n",
    "           angle=0.5)'''"
   ]
  },
  {
   "cell_type": "markdown",
   "metadata": {},
   "source": [
    "n_components: Int deault 2; The embedded spaces' dimensionality\n",
    "perplexity: float; related to the number of nearest neighbors. Larger datasets require larger values. You generally want to pass a value between (5, 50).\n",
    "early_exaggeration: float; controls the tightness of the inital clusters in embedded space. (default: 12.0)\n",
    "learning_rate: float; Usually in the range [10.0, 1000.0].\n",
    "n_iter: Int; Maximum number of iterations for the optimization. Should be at least 250.\n",
    "n_iter_without_progress: Int; Maximum number of iterations without progress before aborting the optimization. #Note progress is only checked every 50 iterations.\n",
    "min_grad_norm: float; If the gradient norm is below this threshold, the optimization will be stopped.(default: 1e-7)\n",
    "metric: string or callable;The metric to use when calculating distance between instances in a feature array.\n",
    "init: string or numpy array; Initialization of embedding. Possible options are ‘random’, ‘pca’, and a numpy array of shape (n_samples, n_components). \n",
    "verbose: Int; Verbosity level.\n",
    "random_state: Int; Sets the random number generator. Best practice is to pass an int for reproducibility.\n",
    "method: 'barnes-hut' or 'exact'; the former is faster but less accurate while the latter is more accurate but doesn't scale.\n",
    "angle: float; Only used if method=’barnes_hut’ This is the trade-off between speed and accuracy for Barnes-Hut T-SNE. Use this parameter in the range of 0.2 - 0.8.\n",
    "n_jobs: Int or None; The number of parallel jobs to run for neighbors search."
   ]
  },
  {
   "cell_type": "code",
   "execution_count": 8,
   "metadata": {},
   "outputs": [
    {
     "data": {
      "text/plain": [
       "(4, 2)"
      ]
     },
     "execution_count": 8,
     "metadata": {},
     "output_type": "execute_result"
    }
   ],
   "source": [
    "example_array = np.array([[0, 0, 0], [0, 1, 1], [1, 0, 1], [1, 1, 1]])\n",
    "embedded_array = TSNE(n_components=2).fit_transform(example_array)\n",
    "embedded_array.shape\n"
   ]
  },
  {
   "cell_type": "markdown",
   "metadata": {},
   "source": [
    "#References:\n",
    "[0]  https://scikit-learn.org/stable/modules/generated/sklearn.manifold.TSNE.html#sklearn.manifold.TSNE\n",
    "[1]  https://en.wikipedia.org/wiki/T-distributed_stochastic_neighbor_embedding    "
   ]
  }
 ],
 "metadata": {
  "kernelspec": {
   "display_name": "Python 3",
   "language": "python",
   "name": "python3"
  },
  "language_info": {
   "codemirror_mode": {
    "name": "ipython",
    "version": 3
   },
   "file_extension": ".py",
   "mimetype": "text/x-python",
   "name": "python",
   "nbconvert_exporter": "python",
   "pygments_lexer": "ipython3",
   "version": "3.6.10"
  }
 },
 "nbformat": 4,
 "nbformat_minor": 4
}
