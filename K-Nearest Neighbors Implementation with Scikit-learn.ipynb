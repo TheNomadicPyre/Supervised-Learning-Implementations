{
 "cells": [
  {
   "cell_type": "markdown",
   "metadata": {},
   "source": [
    "When implementing K-Nearest neighbors you have to make some design choices that will depend on your particular use case. \n",
    "In this example, I've presumed that you've preprocessed your data."
   ]
  },
  {
   "cell_type": "code",
   "execution_count": 2,
   "metadata": {},
   "outputs": [],
   "source": [
    "from sklearn.neighbors import NearestNeighbors \n",
    "import numpy as np\n"
   ]
  },
  {
   "cell_type": "code",
   "execution_count": 3,
   "metadata": {},
   "outputs": [
    {
     "data": {
      "text/plain": [
       "array([[0, 1, 4],\n",
       "       [1, 0, 2],\n",
       "       [2, 1, 0],\n",
       "       [3, 0, 1],\n",
       "       [4, 5, 0],\n",
       "       [5, 4, 6],\n",
       "       [6, 5, 4]])"
      ]
     },
     "execution_count": 3,
     "metadata": {},
     "output_type": "execute_result"
    }
   ],
   "source": [
    "example_array = np.array([[0,2], [-1,2], [-3,2], [1,6], [1, 1], [2, 1], [3, 2]])\n",
    "KNN_example = NearestNeighbors(n_neighbors=3, algorithm = 'brute').fit(example_array)\n",
    "'''Overall this is pretty clear, the only piece that might trip you up is the algorithm parameter.\n",
    "It passes auto by default but also takes brute, kd_tree, and ball_tree.\n",
    "Best practice as of the time of writing:\n",
    "Use kd_tree when dimensionality is low and ball_tree when dimensionality is high (D>20).\n",
    "All that said, it depends on your use case. ball_tree is advantageous to use when the data are well structured;\n",
    "However both kd_tree and ball_tree have a construction cost at the beginning \n",
    "'''\n",
    "distances, indices = KNN_example.kneighbors(example_array)\n",
    "indices             "
   ]
  },
  {
   "cell_type": "code",
   "execution_count": 4,
   "metadata": {},
   "outputs": [
    {
     "data": {
      "text/plain": [
       "array([[0.        , 1.        , 1.41421356],\n",
       "       [0.        , 1.        , 2.        ],\n",
       "       [0.        , 2.        , 3.        ],\n",
       "       [0.        , 4.12310563, 4.47213595],\n",
       "       [0.        , 1.        , 1.41421356],\n",
       "       [0.        , 1.        , 1.41421356],\n",
       "       [0.        , 1.41421356, 2.23606798]])"
      ]
     },
     "execution_count": 4,
     "metadata": {},
     "output_type": "execute_result"
    }
   ],
   "source": [
    "distances"
   ]
  },
  {
   "cell_type": "code",
   "execution_count": null,
   "metadata": {},
   "outputs": [],
   "source": []
  }
 ],
 "metadata": {
  "kernelspec": {
   "display_name": "Python 3",
   "language": "python",
   "name": "python3"
  },
  "language_info": {
   "codemirror_mode": {
    "name": "ipython",
    "version": 3
   },
   "file_extension": ".py",
   "mimetype": "text/x-python",
   "name": "python",
   "nbconvert_exporter": "python",
   "pygments_lexer": "ipython3",
   "version": "3.7.3"
  }
 },
 "nbformat": 4,
 "nbformat_minor": 2
}
